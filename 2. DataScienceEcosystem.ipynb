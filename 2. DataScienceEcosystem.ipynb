{
 "cells": [
  {
   "cell_type": "markdown",
   "id": "ea5ba43b-b111-422e-b652-b264f7e7c6e4",
   "metadata": {},
   "source": [
    "# Data Science Ecosystem"
   ]
  },
  {
   "cell_type": "markdown",
   "id": "ce1f761e-bd72-4986-b577-75f106046d0b",
   "metadata": {},
   "source": [
    "In this notebook, Data Science Tools and Ecosystem are summarized."
   ]
  },
  {
   "cell_type": "markdown",
   "id": "71fc4bfc-2640-418e-be43-34a6a0574db9",
   "metadata": {},
   "source": [
    "**Objectives:**\n",
    "- Python.\n",
    "- R.\n",
    "- SQL.\n",
    "- C++.\n",
    "- Java."
   ]
  },
  {
   "cell_type": "markdown",
   "id": "68e2ab3f-8b06-4e0d-a693-67452a27ba32",
   "metadata": {},
   "source": [
    "Some of the popular languages that Data Scientist are:\n",
    "1. Python.\n",
    "2. R.\n",
    "3. Java."
   ]
  },
  {
   "cell_type": "markdown",
   "id": "b780143d-2eec-4267-b65b-7b1574cebeff",
   "metadata": {},
   "source": [
    "Some of the commonly used libraries used in Data Science include:\n",
    "1. Numpy.\n",
    "2. Pandas.\n",
    "3. Keras."
   ]
  },
  {
   "cell_type": "markdown",
   "id": "cca547d7-01b1-40a0-b1c8-a64ba4fcda4a",
   "metadata": {},
   "source": [
    "| Data science tools |\n",
    "|:---|\n",
    "| Jupyther |\n",
    "| R Studio | \n",
    "| Apache Zepplin |"
   ]
  },
  {
   "cell_type": "markdown",
   "id": "da5184e7-53a0-4e62-a0eb-dc4291a21c40",
   "metadata": {},
   "source": [
    "### Below are a few examples of evaluation arithmetic expressions in Python"
   ]
  },
  {
   "cell_type": "code",
   "execution_count": 12,
   "id": "16c364fb-50c0-4bf2-973e-36e211d37564",
   "metadata": {},
   "outputs": [
    {
     "data": {
      "text/plain": [
       "17"
      ]
     },
     "execution_count": 12,
     "metadata": {},
     "output_type": "execute_result"
    }
   ],
   "source": [
    "# This a simple arithmetic expression to mutiply then add integers\n",
    "(3*4)+5"
   ]
  },
  {
   "cell_type": "code",
   "execution_count": 14,
   "id": "d7ba31a3-767f-4af0-a480-e9d6fbcd0bc3",
   "metadata": {},
   "outputs": [
    {
     "data": {
      "text/plain": [
       "3.3333333333333335"
      ]
     },
     "execution_count": 14,
     "metadata": {},
     "output_type": "execute_result"
    }
   ],
   "source": [
    "# This will convert 200 minutes to hours by diving by 60\n",
    "(200/60)"
   ]
  },
  {
   "cell_type": "markdown",
   "id": "b8c866cc-d96c-4d32-acf3-d925bb9a94ca",
   "metadata": {},
   "source": [
    "## Author\n",
    "Manuel Alejandro Henao Pérez"
   ]
  }
 ],
 "metadata": {
  "kernelspec": {
   "display_name": "Python 3 (ipykernel)",
   "language": "python",
   "name": "python3"
  },
  "language_info": {
   "codemirror_mode": {
    "name": "ipython",
    "version": 3
   },
   "file_extension": ".py",
   "mimetype": "text/x-python",
   "name": "python",
   "nbconvert_exporter": "python",
   "pygments_lexer": "ipython3",
   "version": "3.12.4"
  }
 },
 "nbformat": 4,
 "nbformat_minor": 5
}
