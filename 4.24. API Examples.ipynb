{
 "cells": [
  {
   "cell_type": "markdown",
   "metadata": {},
   "source": [
    "<center>\n",
    "    <img src=\"https://cf-courses-data.s3.us.cloud-object-storage.appdomain.cloud/assets/logos/SN_web_lightmode.png\" width=\"300\" alt=\"cognitiveclass.ai logo\">\n",
    "</center>\n",
    "\n",
    "# Hands-on Lab: API Examples\n",
    "## Random User and Fruityvice API Examples\n",
    "\n",
    "\n",
    "Estimated time needed: **30** minutes\n",
    "\n",
    "## Objectives\n",
    "\n",
    "After completing this lab you will be able to:\n",
    "\n",
    "*   Load and use RandomUser API, using `RandomUser()` Python library\n",
    "*   Load and use Fruityvice API, using `requests` Python library\n",
    "*   Load and use Open-Joke-API, using `requests` Python library\n",
    "\n"
   ]
  },
  {
   "cell_type": "markdown",
   "metadata": {},
   "source": [
    "The purpose of this notebook is to provide more examples on how to use simple APIs. As you have already learned from previous videos and notebooks, API stands for Application Programming Interface and is a software intermediary that allows two applications to talk to each other. \n",
    "\n",
    "The advantages of using APIs:\n",
    " *   **Automation**. Less human effort is required and workflows can be easily updated to become faster and more      \n",
    "     productive.\n",
    " *   **Efficiency**. It allows to use the capabilities of one of the already developed APIs than to try to \n",
    "     independently implement some functionality from scratch.\n",
    " \n",
    "The disadvantage of using APIs:\n",
    " *   **Security**. If the API is poorly integrated, it means it will be vulnerable to attacks, resulting in data breeches or losses having financial or reputation implications.\n",
    "\n",
    "One of the applications we will use in this notebook is Random User Generator. RandomUser is an open-source, free API providing developers with randomly generated users to be used as placeholders for testing purposes. This makes the tool similar to Lorem Ipsum, but is a placeholder for people instead of text. The API can return multiple results, as well as specify generated user details such as gender, email, image, username, address, title, first and last name, and more. More information on [RandomUser](https://randomuser.me/documentation#intro) can be found here.\n",
    "\n",
    "Another example of simple API we will use in this notebook is Fruityvice application. The Fruityvice API web service which provides data for all kinds of fruit! You can use Fruityvice to find out interesting information about fruit and educate yourself. The web service is completely free to use and contribute to.\n"
   ]
  },
  {
   "cell_type": "markdown",
   "metadata": {},
   "source": [
    "## Example 1: RandomUser API\n",
    "Bellow are Get Methods parameters that we can generate. For more information on the parameters, please visit this [documentation](https://randomuser.me/documentation) page.\n"
   ]
  },
  {
   "cell_type": "markdown",
   "metadata": {},
   "source": [
    "## **Get Methods**\n",
    "\n",
    "- get_cell()\n",
    "- get_city()\n",
    "- get_dob()\n",
    "- get_email()\n",
    "- get_first_name()\n",
    "- get_full_name()\n",
    "- get_gender()\n",
    "- get_id()\n",
    "- get_id_number()\n",
    "- get_id_type()\n",
    "- get_info()\n",
    "- get_last_name()\n",
    "- get_login_md5()\n",
    "- get_login_salt()\n",
    "- get_login_sha1()\n",
    "- get_login_sha256()\n",
    "- get_nat()\n",
    "- get_password()\n",
    "- get_phone()\n",
    "- get_picture()\n",
    "- get_postcode()\n",
    "- get_registered()\n",
    "- get_state()\n",
    "- get_street()\n",
    "- get_username()\n",
    "- get_zipcode()\n"
   ]
  },
  {
   "cell_type": "markdown",
   "metadata": {},
   "source": [
    "To start using the API you can install the `randomuser` library running the `pip install` command.\n"
   ]
  },
  {
   "cell_type": "code",
   "execution_count": 1,
   "metadata": {},
   "outputs": [
    {
     "name": "stdout",
     "output_type": "stream",
     "text": [
      "Collecting randomuser\n",
      "  Downloading randomuser-1.6.tar.gz (5.0 kB)\n",
      "  Preparing metadata (setup.py) ... \u001b[?25ldone\n",
      "\u001b[?25hBuilding wheels for collected packages: randomuser\n",
      "  Building wheel for randomuser (setup.py) ... \u001b[?25ldone\n",
      "\u001b[?25h  Created wheel for randomuser: filename=randomuser-1.6-py3-none-any.whl size=5066 sha256=de01262eb389cdaa6876c3800cba2fda87aedd5f79747c0774a96bb7442147ed\n",
      "  Stored in directory: /Users/manuelhenao/Library/Caches/pip/wheels/be/62/c8/71e1b48f4758ea5b78af7595d87178f628cde315a3326610ee\n",
      "Successfully built randomuser\n",
      "Installing collected packages: randomuser\n",
      "Successfully installed randomuser-1.6\n"
     ]
    }
   ],
   "source": [
    "!pip install randomuser"
   ]
  },
  {
   "cell_type": "markdown",
   "metadata": {},
   "source": [
    "Then, we will load the necessary libraries.\n"
   ]
  },
  {
   "cell_type": "code",
   "execution_count": 3,
   "metadata": {},
   "outputs": [],
   "source": [
    "from randomuser import RandomUser\n",
    "import pandas as pd"
   ]
  },
  {
   "cell_type": "markdown",
   "metadata": {},
   "source": [
    "First, we will create a random user object, r.\n"
   ]
  },
  {
   "cell_type": "code",
   "execution_count": 5,
   "metadata": {},
   "outputs": [],
   "source": [
    "r = RandomUser()"
   ]
  },
  {
   "cell_type": "markdown",
   "metadata": {},
   "source": [
    "Then, using `generate_users()` function, we get a list of random 10 users.\n"
   ]
  },
  {
   "cell_type": "code",
   "execution_count": 7,
   "metadata": {},
   "outputs": [],
   "source": [
    "some_list = r.generate_users(10)"
   ]
  },
  {
   "cell_type": "code",
   "execution_count": 9,
   "metadata": {},
   "outputs": [
    {
     "data": {
      "text/plain": [
       "[<randomuser.RandomUser at 0x138bd4530>,\n",
       " <randomuser.RandomUser at 0x138bd4590>,\n",
       " <randomuser.RandomUser at 0x138bd45f0>,\n",
       " <randomuser.RandomUser at 0x138bd4650>,\n",
       " <randomuser.RandomUser at 0x138bd45c0>,\n",
       " <randomuser.RandomUser at 0x138bd4710>,\n",
       " <randomuser.RandomUser at 0x138bd46e0>,\n",
       " <randomuser.RandomUser at 0x138bd4770>,\n",
       " <randomuser.RandomUser at 0x138bd4680>,\n",
       " <randomuser.RandomUser at 0x138bd4800>]"
      ]
     },
     "execution_count": 9,
     "metadata": {},
     "output_type": "execute_result"
    }
   ],
   "source": [
    "some_list"
   ]
  },
  {
   "cell_type": "markdown",
   "metadata": {},
   "source": [
    "The **\"Get Methods\"** functions mentioned at the beginning of this notebook, can generate the required parameters to construct a dataset. For example, to get full name, we call `get_full_name()` function.\n"
   ]
  },
  {
   "cell_type": "code",
   "execution_count": 15,
   "metadata": {},
   "outputs": [
    {
     "data": {
      "text/plain": [
       "'Bob Davis'"
      ]
     },
     "execution_count": 15,
     "metadata": {},
     "output_type": "execute_result"
    }
   ],
   "source": [
    "name = r.get_full_name()\n",
    "name"
   ]
  },
  {
   "cell_type": "markdown",
   "metadata": {},
   "source": [
    "Let's say we only need 10 users with full names and their email addresses. We can write a \"for-loop\" to print these 10 users.\n"
   ]
  },
  {
   "cell_type": "code",
   "execution_count": 17,
   "metadata": {},
   "outputs": [
    {
     "name": "stdout",
     "output_type": "stream",
     "text": [
      "Madeleine Berger   madeleine.berger@example.com\n",
      "Davut Sinanoğlu   davut.sinanoglu@example.com\n",
      "Cathy Ford   cathy.ford@example.com\n",
      "Zowie Khalil   zowie.khalil@example.com\n",
      "Savannah Mendoza   savannah.mendoza@example.com\n",
      "Fredrik Fløysvik   fredrik.floysvik@example.com\n",
      "تینا سلطانی نژاد   tyn.sltnynjd@example.com\n",
      "غزل حسینی   gzl.hsyny@example.com\n",
      "Mirella Henry   mirella.henry@example.com\n",
      "رونیکا محمدخان   rwnykh.mhmdkhn@example.com\n"
     ]
    }
   ],
   "source": [
    "for user in some_list:\n",
    "    print (user.get_full_name(),\" \",user.get_email())"
   ]
  },
  {
   "cell_type": "markdown",
   "metadata": {},
   "source": [
    "## Exercise 1\n",
    "In this Exercise, generate photos of the random 10 users.\n"
   ]
  },
  {
   "cell_type": "code",
   "execution_count": 25,
   "metadata": {},
   "outputs": [
    {
     "name": "stdout",
     "output_type": "stream",
     "text": [
      "https://randomuser.me/api/portraits/women/2.jpg\n",
      "https://randomuser.me/api/portraits/men/96.jpg\n",
      "https://randomuser.me/api/portraits/women/49.jpg\n",
      "https://randomuser.me/api/portraits/men/93.jpg\n",
      "https://randomuser.me/api/portraits/women/36.jpg\n",
      "https://randomuser.me/api/portraits/men/4.jpg\n",
      "https://randomuser.me/api/portraits/women/25.jpg\n",
      "https://randomuser.me/api/portraits/women/67.jpg\n",
      "https://randomuser.me/api/portraits/women/92.jpg\n",
      "https://randomuser.me/api/portraits/women/11.jpg\n"
     ]
    }
   ],
   "source": [
    "## Write your code here\n",
    "for user in some_list:\n",
    "    print (user.get_picture())"
   ]
  },
  {
   "cell_type": "markdown",
   "metadata": {},
   "source": [
    "<details><summary>Click here for the solution</summary>\n",
    "\n",
    "```python\n",
    "for user in some_list:\n",
    "    print (user.get_picture())\n",
    "```\n",
    "\n",
    "</details>\n"
   ]
  },
  {
   "cell_type": "markdown",
   "metadata": {},
   "source": [
    "To generate a table with information about the users, we can write a function containing all desirable parameters. For example, name, gender, city, etc. The parameters will depend on the requirements of the test to be performed. We call the Get Methods, listed at the beginning of this notebook. Then, we return pandas dataframe with the users.\n"
   ]
  },
  {
   "cell_type": "code",
   "execution_count": 27,
   "metadata": {},
   "outputs": [],
   "source": [
    "def get_users():\n",
    "    users =[]\n",
    "     \n",
    "    for user in RandomUser.generate_users(10):\n",
    "        users.append({\"Name\":user.get_full_name(),\"Gender\":user.get_gender(),\"City\":user.get_city(),\"State\":user.get_state(),\"Email\":user.get_email(), \"DOB\":user.get_dob(),\"Picture\":user.get_picture()})\n",
    "      \n",
    "    return pd.DataFrame(users)     "
   ]
  },
  {
   "cell_type": "code",
   "execution_count": 29,
   "metadata": {},
   "outputs": [
    {
     "data": {
      "text/html": [
       "<div>\n",
       "<style scoped>\n",
       "    .dataframe tbody tr th:only-of-type {\n",
       "        vertical-align: middle;\n",
       "    }\n",
       "\n",
       "    .dataframe tbody tr th {\n",
       "        vertical-align: top;\n",
       "    }\n",
       "\n",
       "    .dataframe thead th {\n",
       "        text-align: right;\n",
       "    }\n",
       "</style>\n",
       "<table border=\"1\" class=\"dataframe\">\n",
       "  <thead>\n",
       "    <tr style=\"text-align: right;\">\n",
       "      <th></th>\n",
       "      <th>Name</th>\n",
       "      <th>Gender</th>\n",
       "      <th>City</th>\n",
       "      <th>State</th>\n",
       "      <th>Email</th>\n",
       "      <th>DOB</th>\n",
       "      <th>Picture</th>\n",
       "    </tr>\n",
       "  </thead>\n",
       "  <tbody>\n",
       "    <tr>\n",
       "      <th>0</th>\n",
       "      <td>Annejet Kuijsters</td>\n",
       "      <td>female</td>\n",
       "      <td>Opijnen</td>\n",
       "      <td>Zeeland</td>\n",
       "      <td>annejet.kuijsters@example.com</td>\n",
       "      <td>1950-03-08T04:11:05.851Z</td>\n",
       "      <td>https://randomuser.me/api/portraits/women/92.jpg</td>\n",
       "    </tr>\n",
       "    <tr>\n",
       "      <th>1</th>\n",
       "      <td>Brooklyn Anderson</td>\n",
       "      <td>female</td>\n",
       "      <td>Palmerston North</td>\n",
       "      <td>Taranaki</td>\n",
       "      <td>brooklyn.anderson@example.com</td>\n",
       "      <td>1964-12-29T09:22:20.132Z</td>\n",
       "      <td>https://randomuser.me/api/portraits/women/2.jpg</td>\n",
       "    </tr>\n",
       "    <tr>\n",
       "      <th>2</th>\n",
       "      <td>Gaetano Picard</td>\n",
       "      <td>male</td>\n",
       "      <td>Develier</td>\n",
       "      <td>Valais</td>\n",
       "      <td>gaetano.picard@example.com</td>\n",
       "      <td>1977-11-27T05:53:05.858Z</td>\n",
       "      <td>https://randomuser.me/api/portraits/men/85.jpg</td>\n",
       "    </tr>\n",
       "    <tr>\n",
       "      <th>3</th>\n",
       "      <td>Mélody Brunet</td>\n",
       "      <td>female</td>\n",
       "      <td>Courbevoie</td>\n",
       "      <td>Ariège</td>\n",
       "      <td>melody.brunet@example.com</td>\n",
       "      <td>1962-12-17T22:52:41.425Z</td>\n",
       "      <td>https://randomuser.me/api/portraits/women/57.jpg</td>\n",
       "    </tr>\n",
       "    <tr>\n",
       "      <th>4</th>\n",
       "      <td>Martin Jairam</td>\n",
       "      <td>male</td>\n",
       "      <td>Pernis Rotterdam</td>\n",
       "      <td>Utrecht</td>\n",
       "      <td>martin.jairam@example.com</td>\n",
       "      <td>1965-04-11T15:34:37.085Z</td>\n",
       "      <td>https://randomuser.me/api/portraits/men/85.jpg</td>\n",
       "    </tr>\n",
       "    <tr>\n",
       "      <th>5</th>\n",
       "      <td>Charlotte Patel</td>\n",
       "      <td>female</td>\n",
       "      <td>Lower Hutt</td>\n",
       "      <td>Otago</td>\n",
       "      <td>charlotte.patel@example.com</td>\n",
       "      <td>1977-07-08T13:19:37.277Z</td>\n",
       "      <td>https://randomuser.me/api/portraits/women/32.jpg</td>\n",
       "    </tr>\n",
       "    <tr>\n",
       "      <th>6</th>\n",
       "      <td>Akram Sollie</td>\n",
       "      <td>male</td>\n",
       "      <td>Lindås</td>\n",
       "      <td>Sør-Trøndelag</td>\n",
       "      <td>akram.sollie@example.com</td>\n",
       "      <td>1973-12-19T23:01:14.642Z</td>\n",
       "      <td>https://randomuser.me/api/portraits/men/80.jpg</td>\n",
       "    </tr>\n",
       "    <tr>\n",
       "      <th>7</th>\n",
       "      <td>Marilou Novak</td>\n",
       "      <td>female</td>\n",
       "      <td>Chatham</td>\n",
       "      <td>Alberta</td>\n",
       "      <td>marilou.novak@example.com</td>\n",
       "      <td>1970-01-06T17:57:26.889Z</td>\n",
       "      <td>https://randomuser.me/api/portraits/women/96.jpg</td>\n",
       "    </tr>\n",
       "    <tr>\n",
       "      <th>8</th>\n",
       "      <td>Sven Moreau</td>\n",
       "      <td>male</td>\n",
       "      <td>Vucherens</td>\n",
       "      <td>Appenzell Ausserrhoden</td>\n",
       "      <td>sven.moreau@example.com</td>\n",
       "      <td>1944-10-09T14:35:16.519Z</td>\n",
       "      <td>https://randomuser.me/api/portraits/men/89.jpg</td>\n",
       "    </tr>\n",
       "    <tr>\n",
       "      <th>9</th>\n",
       "      <td>Anna Lynch</td>\n",
       "      <td>female</td>\n",
       "      <td>Westminster</td>\n",
       "      <td>Rutland</td>\n",
       "      <td>anna.lynch@example.com</td>\n",
       "      <td>1954-11-01T15:54:00.417Z</td>\n",
       "      <td>https://randomuser.me/api/portraits/women/50.jpg</td>\n",
       "    </tr>\n",
       "  </tbody>\n",
       "</table>\n",
       "</div>"
      ],
      "text/plain": [
       "                Name  Gender              City                   State  \\\n",
       "0  Annejet Kuijsters  female           Opijnen                 Zeeland   \n",
       "1  Brooklyn Anderson  female  Palmerston North                Taranaki   \n",
       "2     Gaetano Picard    male          Develier                  Valais   \n",
       "3      Mélody Brunet  female        Courbevoie                  Ariège   \n",
       "4      Martin Jairam    male  Pernis Rotterdam                 Utrecht   \n",
       "5    Charlotte Patel  female        Lower Hutt                   Otago   \n",
       "6       Akram Sollie    male            Lindås           Sør-Trøndelag   \n",
       "7      Marilou Novak  female           Chatham                 Alberta   \n",
       "8        Sven Moreau    male         Vucherens  Appenzell Ausserrhoden   \n",
       "9         Anna Lynch  female       Westminster                 Rutland   \n",
       "\n",
       "                           Email                       DOB  \\\n",
       "0  annejet.kuijsters@example.com  1950-03-08T04:11:05.851Z   \n",
       "1  brooklyn.anderson@example.com  1964-12-29T09:22:20.132Z   \n",
       "2     gaetano.picard@example.com  1977-11-27T05:53:05.858Z   \n",
       "3      melody.brunet@example.com  1962-12-17T22:52:41.425Z   \n",
       "4      martin.jairam@example.com  1965-04-11T15:34:37.085Z   \n",
       "5    charlotte.patel@example.com  1977-07-08T13:19:37.277Z   \n",
       "6       akram.sollie@example.com  1973-12-19T23:01:14.642Z   \n",
       "7      marilou.novak@example.com  1970-01-06T17:57:26.889Z   \n",
       "8        sven.moreau@example.com  1944-10-09T14:35:16.519Z   \n",
       "9         anna.lynch@example.com  1954-11-01T15:54:00.417Z   \n",
       "\n",
       "                                            Picture  \n",
       "0  https://randomuser.me/api/portraits/women/92.jpg  \n",
       "1   https://randomuser.me/api/portraits/women/2.jpg  \n",
       "2    https://randomuser.me/api/portraits/men/85.jpg  \n",
       "3  https://randomuser.me/api/portraits/women/57.jpg  \n",
       "4    https://randomuser.me/api/portraits/men/85.jpg  \n",
       "5  https://randomuser.me/api/portraits/women/32.jpg  \n",
       "6    https://randomuser.me/api/portraits/men/80.jpg  \n",
       "7  https://randomuser.me/api/portraits/women/96.jpg  \n",
       "8    https://randomuser.me/api/portraits/men/89.jpg  \n",
       "9  https://randomuser.me/api/portraits/women/50.jpg  "
      ]
     },
     "execution_count": 29,
     "metadata": {},
     "output_type": "execute_result"
    }
   ],
   "source": [
    "get_users()"
   ]
  },
  {
   "cell_type": "code",
   "execution_count": 31,
   "metadata": {},
   "outputs": [],
   "source": [
    "df1 = pd.DataFrame(get_users())  "
   ]
  },
  {
   "cell_type": "markdown",
   "metadata": {},
   "source": [
    "Now we have a *pandas* dataframe that can be used for any testing purposes that the tester might have.\n"
   ]
  },
  {
   "cell_type": "markdown",
   "metadata": {},
   "source": [
    "## Example 2: Fruityvice API\n",
    "\n",
    "Another, more common way to use APIs, is through `requests` library. The next lab, Requests and HTTP, will contain more information about requests.\n",
    "\n",
    "We will start by importing all required libraries.\n"
   ]
  },
  {
   "cell_type": "code",
   "execution_count": 41,
   "metadata": {},
   "outputs": [],
   "source": [
    "import requests\n",
    "import json"
   ]
  },
  {
   "cell_type": "markdown",
   "metadata": {},
   "source": [
    "We will obtain the [fruityvice](https://www.fruityvice.com) API data using `requests.get(\"url\")` function. The data is in a json format.\n"
   ]
  },
  {
   "cell_type": "code",
   "execution_count": 51,
   "metadata": {},
   "outputs": [
    {
     "data": {
      "text/plain": [
       "<Response [502]>"
      ]
     },
     "execution_count": 51,
     "metadata": {},
     "output_type": "execute_result"
    }
   ],
   "source": [
    "data = requests.get(\"https://fruityvice.com/api/fruit/all\")\n",
    "data"
   ]
  },
  {
   "cell_type": "markdown",
   "metadata": {},
   "source": [
    "We will retrieve results using `json.loads()` function.\n"
   ]
  },
  {
   "cell_type": "code",
   "execution_count": 49,
   "metadata": {},
   "outputs": [
    {
     "ename": "JSONDecodeError",
     "evalue": "Expecting value: line 1 column 1 (char 0)",
     "output_type": "error",
     "traceback": [
      "\u001b[0;31m---------------------------------------------------------------------------\u001b[0m",
      "\u001b[0;31mJSONDecodeError\u001b[0m                           Traceback (most recent call last)",
      "Cell \u001b[0;32mIn[49], line 1\u001b[0m\n\u001b[0;32m----> 1\u001b[0m results \u001b[38;5;241m=\u001b[39m json\u001b[38;5;241m.\u001b[39mloads(data\u001b[38;5;241m.\u001b[39mtext)\n",
      "File \u001b[0;32m/opt/anaconda3/lib/python3.12/json/__init__.py:346\u001b[0m, in \u001b[0;36mloads\u001b[0;34m(s, cls, object_hook, parse_float, parse_int, parse_constant, object_pairs_hook, **kw)\u001b[0m\n\u001b[1;32m    341\u001b[0m     s \u001b[38;5;241m=\u001b[39m s\u001b[38;5;241m.\u001b[39mdecode(detect_encoding(s), \u001b[38;5;124m'\u001b[39m\u001b[38;5;124msurrogatepass\u001b[39m\u001b[38;5;124m'\u001b[39m)\n\u001b[1;32m    343\u001b[0m \u001b[38;5;28;01mif\u001b[39;00m (\u001b[38;5;28mcls\u001b[39m \u001b[38;5;129;01mis\u001b[39;00m \u001b[38;5;28;01mNone\u001b[39;00m \u001b[38;5;129;01mand\u001b[39;00m object_hook \u001b[38;5;129;01mis\u001b[39;00m \u001b[38;5;28;01mNone\u001b[39;00m \u001b[38;5;129;01mand\u001b[39;00m\n\u001b[1;32m    344\u001b[0m         parse_int \u001b[38;5;129;01mis\u001b[39;00m \u001b[38;5;28;01mNone\u001b[39;00m \u001b[38;5;129;01mand\u001b[39;00m parse_float \u001b[38;5;129;01mis\u001b[39;00m \u001b[38;5;28;01mNone\u001b[39;00m \u001b[38;5;129;01mand\u001b[39;00m\n\u001b[1;32m    345\u001b[0m         parse_constant \u001b[38;5;129;01mis\u001b[39;00m \u001b[38;5;28;01mNone\u001b[39;00m \u001b[38;5;129;01mand\u001b[39;00m object_pairs_hook \u001b[38;5;129;01mis\u001b[39;00m \u001b[38;5;28;01mNone\u001b[39;00m \u001b[38;5;129;01mand\u001b[39;00m \u001b[38;5;129;01mnot\u001b[39;00m kw):\n\u001b[0;32m--> 346\u001b[0m     \u001b[38;5;28;01mreturn\u001b[39;00m _default_decoder\u001b[38;5;241m.\u001b[39mdecode(s)\n\u001b[1;32m    347\u001b[0m \u001b[38;5;28;01mif\u001b[39;00m \u001b[38;5;28mcls\u001b[39m \u001b[38;5;129;01mis\u001b[39;00m \u001b[38;5;28;01mNone\u001b[39;00m:\n\u001b[1;32m    348\u001b[0m     \u001b[38;5;28mcls\u001b[39m \u001b[38;5;241m=\u001b[39m JSONDecoder\n",
      "File \u001b[0;32m/opt/anaconda3/lib/python3.12/json/decoder.py:337\u001b[0m, in \u001b[0;36mJSONDecoder.decode\u001b[0;34m(self, s, _w)\u001b[0m\n\u001b[1;32m    332\u001b[0m \u001b[38;5;28;01mdef\u001b[39;00m \u001b[38;5;21mdecode\u001b[39m(\u001b[38;5;28mself\u001b[39m, s, _w\u001b[38;5;241m=\u001b[39mWHITESPACE\u001b[38;5;241m.\u001b[39mmatch):\n\u001b[1;32m    333\u001b[0m \u001b[38;5;250m    \u001b[39m\u001b[38;5;124;03m\"\"\"Return the Python representation of ``s`` (a ``str`` instance\u001b[39;00m\n\u001b[1;32m    334\u001b[0m \u001b[38;5;124;03m    containing a JSON document).\u001b[39;00m\n\u001b[1;32m    335\u001b[0m \n\u001b[1;32m    336\u001b[0m \u001b[38;5;124;03m    \"\"\"\u001b[39;00m\n\u001b[0;32m--> 337\u001b[0m     obj, end \u001b[38;5;241m=\u001b[39m \u001b[38;5;28mself\u001b[39m\u001b[38;5;241m.\u001b[39mraw_decode(s, idx\u001b[38;5;241m=\u001b[39m_w(s, \u001b[38;5;241m0\u001b[39m)\u001b[38;5;241m.\u001b[39mend())\n\u001b[1;32m    338\u001b[0m     end \u001b[38;5;241m=\u001b[39m _w(s, end)\u001b[38;5;241m.\u001b[39mend()\n\u001b[1;32m    339\u001b[0m     \u001b[38;5;28;01mif\u001b[39;00m end \u001b[38;5;241m!=\u001b[39m \u001b[38;5;28mlen\u001b[39m(s):\n",
      "File \u001b[0;32m/opt/anaconda3/lib/python3.12/json/decoder.py:355\u001b[0m, in \u001b[0;36mJSONDecoder.raw_decode\u001b[0;34m(self, s, idx)\u001b[0m\n\u001b[1;32m    353\u001b[0m     obj, end \u001b[38;5;241m=\u001b[39m \u001b[38;5;28mself\u001b[39m\u001b[38;5;241m.\u001b[39mscan_once(s, idx)\n\u001b[1;32m    354\u001b[0m \u001b[38;5;28;01mexcept\u001b[39;00m \u001b[38;5;167;01mStopIteration\u001b[39;00m \u001b[38;5;28;01mas\u001b[39;00m err:\n\u001b[0;32m--> 355\u001b[0m     \u001b[38;5;28;01mraise\u001b[39;00m JSONDecodeError(\u001b[38;5;124m\"\u001b[39m\u001b[38;5;124mExpecting value\u001b[39m\u001b[38;5;124m\"\u001b[39m, s, err\u001b[38;5;241m.\u001b[39mvalue) \u001b[38;5;28;01mfrom\u001b[39;00m \u001b[38;5;28;01mNone\u001b[39;00m\n\u001b[1;32m    356\u001b[0m \u001b[38;5;28;01mreturn\u001b[39;00m obj, end\n",
      "\u001b[0;31mJSONDecodeError\u001b[0m: Expecting value: line 1 column 1 (char 0)"
     ]
    }
   ],
   "source": [
    "results = json.loads(data.text)"
   ]
  },
  {
   "cell_type": "markdown",
   "metadata": {},
   "source": [
    "We will convert our json data into *pandas* data frame. \n"
   ]
  },
  {
   "cell_type": "code",
   "execution_count": 47,
   "metadata": {},
   "outputs": [
    {
     "ename": "NameError",
     "evalue": "name 'results' is not defined",
     "output_type": "error",
     "traceback": [
      "\u001b[0;31m---------------------------------------------------------------------------\u001b[0m",
      "\u001b[0;31mNameError\u001b[0m                                 Traceback (most recent call last)",
      "Cell \u001b[0;32mIn[47], line 1\u001b[0m\n\u001b[0;32m----> 1\u001b[0m pd\u001b[38;5;241m.\u001b[39mDataFrame(results)\n",
      "\u001b[0;31mNameError\u001b[0m: name 'results' is not defined"
     ]
    }
   ],
   "source": [
    "pd.DataFrame(results)"
   ]
  },
  {
   "cell_type": "markdown",
   "metadata": {},
   "source": [
    "The result is in a nested json format. The 'nutrition' column contains multiple subcolumns, so the data needs to be 'flattened' or normalized.\n"
   ]
  },
  {
   "cell_type": "code",
   "execution_count": 53,
   "metadata": {},
   "outputs": [
    {
     "ename": "NameError",
     "evalue": "name 'results' is not defined",
     "output_type": "error",
     "traceback": [
      "\u001b[0;31m---------------------------------------------------------------------------\u001b[0m",
      "\u001b[0;31mNameError\u001b[0m                                 Traceback (most recent call last)",
      "Cell \u001b[0;32mIn[53], line 1\u001b[0m\n\u001b[0;32m----> 1\u001b[0m df2 \u001b[38;5;241m=\u001b[39m pd\u001b[38;5;241m.\u001b[39mjson_normalize(results)\n",
      "\u001b[0;31mNameError\u001b[0m: name 'results' is not defined"
     ]
    }
   ],
   "source": [
    "df2 = pd.json_normalize(results)"
   ]
  },
  {
   "cell_type": "code",
   "execution_count": 55,
   "metadata": {},
   "outputs": [
    {
     "ename": "NameError",
     "evalue": "name 'df2' is not defined",
     "output_type": "error",
     "traceback": [
      "\u001b[0;31m---------------------------------------------------------------------------\u001b[0m",
      "\u001b[0;31mNameError\u001b[0m                                 Traceback (most recent call last)",
      "Cell \u001b[0;32mIn[55], line 1\u001b[0m\n\u001b[0;32m----> 1\u001b[0m df2\n",
      "\u001b[0;31mNameError\u001b[0m: name 'df2' is not defined"
     ]
    }
   ],
   "source": [
    "df2"
   ]
  },
  {
   "cell_type": "markdown",
   "metadata": {},
   "source": [
    "Let's see if we can extract some information from this dataframe. Perhaps, we need to know the family and genus of a cherry.\n"
   ]
  },
  {
   "cell_type": "code",
   "execution_count": null,
   "metadata": {},
   "outputs": [],
   "source": [
    "cherry = df2.loc[df2[\"name\"] == 'Cherry']\n",
    "(cherry.iloc[0]['family']) , (cherry.iloc[0]['genus'])"
   ]
  },
  {
   "cell_type": "markdown",
   "metadata": {},
   "source": [
    "## Exercise 2\n",
    "In this Exercise, find out how many calories are contained in a banana.\n"
   ]
  },
  {
   "cell_type": "code",
   "execution_count": null,
   "metadata": {},
   "outputs": [],
   "source": [
    "# Write your code here\n"
   ]
  },
  {
   "cell_type": "markdown",
   "metadata": {},
   "source": [
    "<details><summary>Click here for the solution</summary>\n",
    "\n",
    "```python\n",
    "cal_banana = df2.loc[df2[\"name\"] == 'Banana']\n",
    "cal_banana.iloc[0]['nutritions.calories']\n",
    "```\n",
    "\n",
    "</details>\n"
   ]
  },
  {
   "cell_type": "markdown",
   "metadata": {},
   "source": [
    "## Exercise 3\n",
    "\n",
    "This [page](https://mixedanalytics.com/blog/list-actually-free-open-no-auth-needed-apis/) contains a list of free public APIs for you to practice. Let us deal with the following example.\n",
    "\n",
    "#### Official Joke API \n",
    "This API returns random jokes from a database. The following URL can be used to retrieve 10 random jokes.\n",
    "\n",
    "https://official-joke-api.appspot.com/jokes/ten\n",
    "\n",
    "1. Using `requests.get(\"url\")` function, load the data from the URL.\n"
   ]
  },
  {
   "cell_type": "code",
   "execution_count": 59,
   "metadata": {},
   "outputs": [
    {
     "data": {
      "text/plain": [
       "<Response [200]>"
      ]
     },
     "execution_count": 59,
     "metadata": {},
     "output_type": "execute_result"
    }
   ],
   "source": [
    "# Write your code here\n",
    "get_url = 'https://official-joke-api.appspot.com/jokes/ten'\n",
    "data2 = requests.get(get_url)\n",
    "data2"
   ]
  },
  {
   "cell_type": "markdown",
   "metadata": {},
   "source": [
    "<details><summary>Click here for the solution</summary>\n",
    "\n",
    "```python\n",
    "data2 = requests.get(\"https://official-joke-api.appspot.com/jokes/ten\")\n",
    "```\n",
    "\n",
    "</details>\n"
   ]
  },
  {
   "cell_type": "markdown",
   "metadata": {},
   "source": [
    "2. Retrieve results using `json.loads()` function.\n"
   ]
  },
  {
   "cell_type": "code",
   "execution_count": 61,
   "metadata": {},
   "outputs": [
    {
     "data": {
      "text/plain": [
       "[{'type': 'general',\n",
       "  'setup': 'I just watched a documentary about beavers.',\n",
       "  'punchline': 'It was the best dam show I ever saw',\n",
       "  'id': 40},\n",
       " {'type': 'general',\n",
       "  'setup': 'What did the ocean say to the beach?',\n",
       "  'punchline': 'Thanks for all the sediment.',\n",
       "  'id': 178},\n",
       " {'type': 'general',\n",
       "  'setup': 'What did the judge say to the dentist?',\n",
       "  'punchline': 'Do you swear to pull the tooth, the whole tooth and nothing but the tooth?',\n",
       "  'id': 174},\n",
       " {'type': 'general',\n",
       "  'setup': 'How do you make a hankie dance?',\n",
       "  'punchline': 'Put a little boogie in it.',\n",
       "  'id': 127},\n",
       " {'type': 'general',\n",
       "  'setup': 'Can a kangaroo jump higher than the Empire State Building?',\n",
       "  'punchline': \"Of course. The Empire State Building can't jump.\",\n",
       "  'id': 80},\n",
       " {'type': 'general',\n",
       "  'setup': 'Where do bees go to the bathroom?',\n",
       "  'punchline': 'The BP station.',\n",
       "  'id': 284},\n",
       " {'type': 'general',\n",
       "  'setup': 'Why did the man run around his bed?',\n",
       "  'punchline': 'Because he was trying to catch up on his sleep!',\n",
       "  'id': 329},\n",
       " {'type': 'general',\n",
       "  'setup': 'How good are you at Power Point?',\n",
       "  'punchline': 'I Excel at it.',\n",
       "  'id': 128},\n",
       " {'type': 'general',\n",
       "  'setup': 'What did the mountain climber name his son?',\n",
       "  'punchline': 'Cliff.',\n",
       "  'id': 177},\n",
       " {'type': 'general',\n",
       "  'setup': 'How many seconds are in a year?',\n",
       "  'punchline': '12. January 2nd, February 2nd, March 2nd, April 2nd.... etc',\n",
       "  'id': 142}]"
      ]
     },
     "execution_count": 61,
     "metadata": {},
     "output_type": "execute_result"
    }
   ],
   "source": [
    "# Write your code here\n",
    "results2 = json.loads(data2.text)\n",
    "results2"
   ]
  },
  {
   "cell_type": "markdown",
   "metadata": {},
   "source": [
    "<details><summary>Click here for the solution</summary>\n",
    "\n",
    "```python\n",
    "results2 = json.loads(data2.text)\n",
    "```\n",
    "\n",
    "</details>\n"
   ]
  },
  {
   "cell_type": "markdown",
   "metadata": {},
   "source": [
    "3. Convert json data into *pandas* data frame. Drop the type and id columns.\n"
   ]
  },
  {
   "cell_type": "code",
   "execution_count": 69,
   "metadata": {},
   "outputs": [
    {
     "data": {
      "text/html": [
       "<div>\n",
       "<style scoped>\n",
       "    .dataframe tbody tr th:only-of-type {\n",
       "        vertical-align: middle;\n",
       "    }\n",
       "\n",
       "    .dataframe tbody tr th {\n",
       "        vertical-align: top;\n",
       "    }\n",
       "\n",
       "    .dataframe thead th {\n",
       "        text-align: right;\n",
       "    }\n",
       "</style>\n",
       "<table border=\"1\" class=\"dataframe\">\n",
       "  <thead>\n",
       "    <tr style=\"text-align: right;\">\n",
       "      <th></th>\n",
       "      <th>setup</th>\n",
       "      <th>punchline</th>\n",
       "    </tr>\n",
       "  </thead>\n",
       "  <tbody>\n",
       "    <tr>\n",
       "      <th>0</th>\n",
       "      <td>I just watched a documentary about beavers.</td>\n",
       "      <td>It was the best dam show I ever saw</td>\n",
       "    </tr>\n",
       "    <tr>\n",
       "      <th>1</th>\n",
       "      <td>What did the ocean say to the beach?</td>\n",
       "      <td>Thanks for all the sediment.</td>\n",
       "    </tr>\n",
       "    <tr>\n",
       "      <th>2</th>\n",
       "      <td>What did the judge say to the dentist?</td>\n",
       "      <td>Do you swear to pull the tooth, the whole toot...</td>\n",
       "    </tr>\n",
       "    <tr>\n",
       "      <th>3</th>\n",
       "      <td>How do you make a hankie dance?</td>\n",
       "      <td>Put a little boogie in it.</td>\n",
       "    </tr>\n",
       "    <tr>\n",
       "      <th>4</th>\n",
       "      <td>Can a kangaroo jump higher than the Empire Sta...</td>\n",
       "      <td>Of course. The Empire State Building can't jump.</td>\n",
       "    </tr>\n",
       "    <tr>\n",
       "      <th>5</th>\n",
       "      <td>Where do bees go to the bathroom?</td>\n",
       "      <td>The BP station.</td>\n",
       "    </tr>\n",
       "    <tr>\n",
       "      <th>6</th>\n",
       "      <td>Why did the man run around his bed?</td>\n",
       "      <td>Because he was trying to catch up on his sleep!</td>\n",
       "    </tr>\n",
       "    <tr>\n",
       "      <th>7</th>\n",
       "      <td>How good are you at Power Point?</td>\n",
       "      <td>I Excel at it.</td>\n",
       "    </tr>\n",
       "    <tr>\n",
       "      <th>8</th>\n",
       "      <td>What did the mountain climber name his son?</td>\n",
       "      <td>Cliff.</td>\n",
       "    </tr>\n",
       "    <tr>\n",
       "      <th>9</th>\n",
       "      <td>How many seconds are in a year?</td>\n",
       "      <td>12. January 2nd, February 2nd, March 2nd, Apri...</td>\n",
       "    </tr>\n",
       "  </tbody>\n",
       "</table>\n",
       "</div>"
      ],
      "text/plain": [
       "                                               setup  \\\n",
       "0        I just watched a documentary about beavers.   \n",
       "1               What did the ocean say to the beach?   \n",
       "2             What did the judge say to the dentist?   \n",
       "3                    How do you make a hankie dance?   \n",
       "4  Can a kangaroo jump higher than the Empire Sta...   \n",
       "5                  Where do bees go to the bathroom?   \n",
       "6                Why did the man run around his bed?   \n",
       "7                   How good are you at Power Point?   \n",
       "8        What did the mountain climber name his son?   \n",
       "9                    How many seconds are in a year?   \n",
       "\n",
       "                                           punchline  \n",
       "0                It was the best dam show I ever saw  \n",
       "1                       Thanks for all the sediment.  \n",
       "2  Do you swear to pull the tooth, the whole toot...  \n",
       "3                         Put a little boogie in it.  \n",
       "4   Of course. The Empire State Building can't jump.  \n",
       "5                                    The BP station.  \n",
       "6    Because he was trying to catch up on his sleep!  \n",
       "7                                     I Excel at it.  \n",
       "8                                             Cliff.  \n",
       "9  12. January 2nd, February 2nd, March 2nd, Apri...  "
      ]
     },
     "execution_count": 69,
     "metadata": {},
     "output_type": "execute_result"
    }
   ],
   "source": [
    "# Write your code here\n",
    "df3 = pd.DataFrame(results2)\n",
    "df3.drop(columns=[\"type\",\"id\"],inplace=True)\n",
    "df3"
   ]
  },
  {
   "cell_type": "markdown",
   "metadata": {},
   "source": [
    "<details><summary>Click here for the solution</summary>\n",
    "\n",
    "```python\n",
    "df3 = pd.DataFrame(results2)\n",
    "df3.drop(columns=[\"type\",\"id\"],inplace=True)\n",
    "df3\n",
    "```\n",
    "\n",
    "</details>\n"
   ]
  },
  {
   "cell_type": "markdown",
   "metadata": {},
   "source": [
    "# Congratulations! - You have completed the lab\n"
   ]
  },
  {
   "cell_type": "markdown",
   "metadata": {},
   "source": [
    "## Author\n",
    "<a href=\"https://www.linkedin.com/in/svitlana-kramar\" target=\"_blank\">Svitlana Kramar</a>\n",
    "\n",
    "Svitlana is a master’s degree Data Science and Analytics student at University of Calgary, who enjoys travelling, learning new languages and cultures and loves spreading her passion for Data Science.\n",
    "\n",
    "## Additional Contributor\n",
    "<a href=\"https://www.linkedin.com/in/abhishek-gagneja-23051987/\" target=\"_blank\">Abhishek Gagneja</a>\n"
   ]
  },
  {
   "cell_type": "markdown",
   "metadata": {},
   "source": [
    "Copyright © 2023 IBM Corporation. All rights reserved.\n"
   ]
  }
 ],
 "metadata": {
  "kernelspec": {
   "display_name": "Python 3 (ipykernel)",
   "language": "python",
   "name": "python3"
  },
  "language_info": {
   "codemirror_mode": {
    "name": "ipython",
    "version": 3
   },
   "file_extension": ".py",
   "mimetype": "text/x-python",
   "name": "python",
   "nbconvert_exporter": "python",
   "pygments_lexer": "ipython3",
   "version": "3.12.4"
  }
 },
 "nbformat": 4,
 "nbformat_minor": 4
}
